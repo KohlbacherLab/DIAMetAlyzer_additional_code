{
 "cells": [
  {
   "cell_type": "code",
   "execution_count": 1,
   "metadata": {},
   "outputs": [],
   "source": [
    "import re\n",
    "import pandas as pd\n",
    "import numpy as np\n",
    "import matplotlib.pyplot as plt\n",
    "from matplotlib_venn import venn2, venn2_circles, venn3\n",
    "%matplotlib inline\n",
    "\n",
    "class Compound:\n",
    "    def __init__(self,\n",
    "                formulas = [],\n",
    "                adducts = [],\n",
    "                description = \"\",\n",
    "                precursor_mz = 0.0,\n",
    "                charge = \"\",\n",
    "                rt = \"\",\n",
    "                fragment_mz = [],\n",
    "                fragment_int = []):\n",
    "        self.formulas = formulas\n",
    "        self.adducts = adducts\n",
    "        self.description = description\n",
    "        self.precursor_mz = precursor_mz\n",
    "        self.charge = charge\n",
    "        self.rt = rt\n",
    "        self.fragment_mz = fragment_mz\n",
    "        self.fragment_int = fragment_int\n",
    "    \n",
    "class Matches:\n",
    "    def __init__(self,\n",
    "                 overlapping_oms = [],\n",
    "                 non_overlapping_oms = [],\n",
    "                 overlapping_mdia = [],\n",
    "                 non_overlapping_mdia = [],\n",
    "                 overlapping_rt_dict = {},\n",
    "                 overlapping_formula_dict = {}):\n",
    "        self.overlapping_oms = overlapping_oms\n",
    "        self.non_overlapping_oms = non_overlapping_oms\n",
    "        self.overlapping_mdia = overlapping_mdia\n",
    "        self.non_overlapping_mdia = non_overlapping_mdia\n",
    "        self.overlapping_rt_dict = overlapping_rt_dict\n",
    "        self.overlapping_formula_dict = overlapping_formula_dict\n",
    "        \n",
    "def useCompoundMass(compound):\n",
    "    return compound.precursor_mz\n",
    "\n",
    "# comparison based on molecular_formula, adduct and the retention time \n",
    "def compareBySumAddRt(mdia_lib, oms_lib, rt_dev):\n",
    "    oms_dict = {}\n",
    "    for compound in oms_lib:\n",
    "        # index 0, since oms only one formula and adduct\n",
    "        key = str(compound.formulas[0] + \"_\" + compound.adducts[0])\n",
    "        new_value = []\n",
    "        new_value.append(compound.rt)\n",
    "        if key in oms_dict:\n",
    "            current_value = oms_dict[key]\n",
    "            combined_value = current_value + new_value\n",
    "            oms_dict[key] = combined_value\n",
    "        else:\n",
    "            oms_dict[key] = new_value\n",
    "\n",
    "    overlapping_rt_dict = {}  \n",
    "    overlapping_formula_dict = {}\n",
    "    not_in_dictionary = [] # compounds which had no match \n",
    "    in_dictionary = [] # compounds which had a match\n",
    "    valid_lookup_keys = [] # key which had a match in the oms_dict\n",
    "    for compound in mdia_lib:\n",
    "        l_size = len(compound.formulas)\n",
    "        for i in range(0,l_size):\n",
    "            key = str(compound.formulas[i] + \"_\" + compound.adducts[i])\n",
    "            #print(key)\n",
    "            if key in oms_dict:\n",
    "                current_entry = oms_dict[key]\n",
    "                #print(current_entry)\n",
    "                # iterate over rt in dict_oms\n",
    "                for j in range(0,len(current_entry)):\n",
    "                    # check if retention time within a certain threshold\n",
    "                    min_rt = current_entry[j] - rt_dev\n",
    "                    max_rt = current_entry[j] + rt_dev\n",
    "                    #print(\"c_entry: \" + str(current_entry[j]))\n",
    "                    #print(\"m_entry: \" + str(compound.rt))\n",
    "                    #print(\"min_rt: \" + str(min_rt))\n",
    "                    #print(\"max_rt: \" + str(max_rt))\n",
    "                    rt_bool = float(compound.rt) >= float(min_rt) and float(compound.rt) <= float(max_rt)\n",
    "                    #print(rt_bool)\n",
    "                    if (rt_bool):\n",
    "                        des = []\n",
    "                        descriptions = compound.description.split(\";\")\n",
    "                        for element in descriptions:\n",
    "                            des.append(re.sub(\"_.*$\",\"\",element))\n",
    "                        description = ';'.join(des)\n",
    "                        if compound.rt in overlapping_rt_dict:\n",
    "                            overlapping_rt_dict[compound.rt].append(current_entry[j])\n",
    "                        else:\n",
    "                            l_rt = [current_entry[j]]\n",
    "                            overlapping_rt_dict[compound.rt] = l_rt  \n",
    "                        if description in overlapping_formula_dict:\n",
    "                            overlapping_formula_dict[description].append(str(key))\n",
    "                        else:\n",
    "                            l_key = [str(key)]\n",
    "                            overlapping_formula_dict[description] = l_key\n",
    "                        in_dictionary.append(compound) # save mdia entry ## TODO happens to often \n",
    "                        lookup_key = str(str(key) + \"_\" + str(current_entry[j]))\n",
    "                        valid_lookup_keys.append(lookup_key)\n",
    "\n",
    "    # Resolve overlapping / non_overlapping compounds in oms\n",
    "    overlapping_compounds_oms = []\n",
    "    non_overlapping_compounds_oms = []\n",
    "    for compound in oms_lib:\n",
    "        lookup = str(compound.formulas[0] + \"_\" + compound.adducts[0] + \"_\" + str(compound.rt))\n",
    "        if lookup in valid_lookup_keys:\n",
    "            overlapping_compounds_oms.append(compound)\n",
    "        else:\n",
    "            non_overlapping_compounds_oms.append(compound)\n",
    "\n",
    "    # Resolve overlapping / non_overlapping compounds in mdia \n",
    "    overlapping_compounds_mdia = []\n",
    "    non_overlapping_compounds_mdia = []\n",
    "    in_dictionary = set(in_dictionary)\n",
    "    for compound in mdia_lib:\n",
    "        if compound in in_dictionary:\n",
    "            #print(\"overlapping:\" + compound.description)\n",
    "            overlapping_compounds_mdia.append(compound)\n",
    "        else:\n",
    "            non_overlapping_compounds_mdia.append(compound)\n",
    "            \n",
    "    matches = Matches()\n",
    "    matches.overlapping_oms = overlapping_compounds_oms\n",
    "    matches.non_overlapping_oms = non_overlapping_compounds_oms\n",
    "    matches.overlapping_mdia = overlapping_compounds_mdia\n",
    "    matches.non_overlapping_mdia = non_overlapping_compounds_mdia\n",
    "    matches.overlapping_rt_dict = overlapping_rt_dict\n",
    "    matches.overlapping_formula_dict = overlapping_formula_dict\n",
    "    \n",
    "    return matches\n",
    "\n",
    "def read_metabodia_library(in_library_path):\n",
    "\n",
    "    compoundlist = []\n",
    "    description = \"\"\n",
    "\n",
    "    file = open(in_library_path, 'r')\n",
    "    line = file.readline()\n",
    "    index = 0\n",
    "    while line: \n",
    "        line = line.strip()\n",
    "        lastlineoffileemtpy = len(line.strip()) == 0\n",
    "        if line.startswith(\"Putative_formula_MS1:\") or lastlineoffileemtpy:\n",
    "            if (index == 0):\n",
    "                compound = Compound()\n",
    "            if (description != \"\"):\n",
    "                compoundlist.append(compound)\n",
    "                compound = Compound()\n",
    "                compound.formulas = []\n",
    "                compound.adducts = []\n",
    "                compound.fragment_mz = []\n",
    "                compound.fragment_int = []\n",
    "            description = line.split(\" \")[1].strip()\n",
    "            compound.description = description\n",
    "            for element in description.split(\";\"):\n",
    "                index_1 = element.index(\"^\")\n",
    "                index_2 = element.index(\"_\")\n",
    "                compound.formulas.append(element[0:index_1])\n",
    "                compound.adducts.append(str(\"[\" + element[index_1+1:index_2] + \"]+\")) # TODO: Not sure if that works for all cases. Here only charge 1. \n",
    "        if line.startswith(\"Precursor m/z:\"):\n",
    "            compound.precursor_mz = float(line.split(\" \")[2])\n",
    "        if line.startswith(\"Charge state:\"):\n",
    "            compound.charge = line.split(\" \")[2]\n",
    "        if line.startswith(\"RT:\"):\n",
    "            compound.rt = line.split(\" \")[1]\n",
    "        if line.startswith(tuple('0123456789')):\n",
    "            compound.fragment_mz.append(line.split(\"\\t\")[0].strip())\n",
    "            compound.fragment_int.append(line.split(\"\\t\")[1].strip(\"\\n\").strip())\n",
    "        line = file.readline()\n",
    "        index += 1\n",
    "\n",
    "    file.close()\n",
    "    compoundlist.sort(key=useCompoundMass)\n",
    "    return(compoundlist)\n",
    "\n",
    "def read_openms_assay_library(openmslib_path):\n",
    "    compoundlist = []\n",
    "    d_lib = dict()\n",
    "    df_assay_lib = pd.read_csv(openmslib_path, sep = '\\t')\n",
    "\n",
    "    # filter decoys\n",
    "    df_assay_lib = df_assay_lib[df_assay_lib['Decoy'] == 0]\n",
    "\n",
    "    unique_tgid = df_assay_lib.TransitionGroupId.unique()\n",
    "    for element in unique_tgid:\n",
    "        d_lib[element] = df_assay_lib[df_assay_lib['TransitionGroupId'] == element]\n",
    "\n",
    "    for key, value in d_lib.items():\n",
    "        compound = Compound()\n",
    "        # filter empty entries \n",
    "        if not value['SumFormula'].unique(): \n",
    "            continue\n",
    "        compound.formulas = value['SumFormula'].unique()\n",
    "        compound.adducts = value['Adducts'].unique()\n",
    "        compound.description = value['CompoundName'].unique()[0]\n",
    "        compound.precursor_mz = value['PrecursorMz'].unique()[0]\n",
    "        compound.charge = value['PrecursorCharge'].unique()[0]\n",
    "        compound.rt = value['NormalizedRetentionTime'].unique()[0]\n",
    "        compound.fragment_mz = value['ProductMz'].tolist()\n",
    "        compound.fragment_int = value['LibraryIntensity'].tolist()\n",
    "        compoundlist.append(compound)\n",
    "    \n",
    "    compoundlist.sort(key=useCompoundMass)\n",
    "    return compoundlist\n",
    "\n",
    "def read_oms_quant(df):\n",
    "    compoundlist = []\n",
    "    for ind in df.index: \n",
    "        compound = Compound()\n",
    "        formula_adduct = re.sub(\"^\\d*_\",\"\", df['Protein'][ind])\n",
    "        compound.formulas = [formula_adduct.split('_')[0]]\n",
    "        compound.adducts = [formula_adduct.split('_')[1]]\n",
    "        compound.rt = df['RT'][ind]\n",
    "        compoundlist.append(compound)\n",
    "    return compoundlist\n",
    "\n",
    "def read_mdia_quant(rt_corrected_df):\n",
    "    compoundlist = []\n",
    "    for ind in rt_corrected_df.index: \n",
    "        compound = Compound()\n",
    "        formulas = []\n",
    "        adducts = []\n",
    "        for element in rt_corrected_df['Protein'][ind].split(\";\"):\n",
    "            index_1 = element.index(\"^\")\n",
    "            formulas.append(element[0:index_1])\n",
    "            adducts.append(str(\"[\" + element[index_1+1:] + \"]+\"))\n",
    "        compound.formulas = formulas\n",
    "        compound.adducts = adducts\n",
    "        compound.description = rt_corrected_df['Protein'][ind]\n",
    "        compound.rt = rt_corrected_df['RT'][ind]\n",
    "        compoundlist.append(compound)\n",
    "    return compoundlist\n",
    "\n",
    "def read_mdia_oms_quant(df):\n",
    "    compoundlist = []\n",
    "    for ind in df.index: \n",
    "        compound = Compound()\n",
    "        formulas = []\n",
    "        adducts = []\n",
    "        multiple_compounds = re.sub(\"^\\d*_\",\"\", df['Protein'][ind])\n",
    "        for element in multiple_compounds.split(\";\"):\n",
    "            index_1 = element.index(\"^\")\n",
    "            formulas.append(element[0:index_1])\n",
    "            adducts.append(str(\"[\" + element[index_1+1:] + \"]+\"))\n",
    "        compound.formulas = formulas\n",
    "        compound.adducts = adducts\n",
    "        compound.rt = df['RT'][ind]\n",
    "        compoundlist.append(compound)\n",
    "    return compoundlist\n",
    "\n",
    "def intersection(lst1, lst2): \n",
    "    return list(set(lst1) & set(lst2))\n"
   ]
  },
  {
   "cell_type": "code",
   "execution_count": 2,
   "metadata": {
    "scrolled": true
   },
   "outputs": [
    {
     "name": "stdout",
     "output_type": "stream",
     "text": [
      "count_compounds_less_3_fragments_02: 76\n",
      "638\n",
      "21\n",
      "40\n",
      "34\n",
      "mdia_vs_oms.non_overlapping_mdia\n",
      "C26H51NO4S^M+Na;C24H50NO7P^M+H;C29H47NO4^M+Na\n",
      "C27H45O10P^M+Na;C33H34N4O6^M+H\n",
      "C28H48O5^M+K;C31H44O4^M+Na;C24H49O7P^M+Na;C29H46F2O2^M+K\n",
      "C28H54NO8P^M+K\n",
      "C30H42O11^M+Na\n",
      "C30H42O11^M+Na\n",
      "C31H64NO9P^M+Na\n",
      "C32H66NO7P^M+K\n",
      "C33H59O16P^M+Na\n",
      "C33H64NO9P^M+H\n",
      "C34H63O14P^M+Na;C38H62O12^M+K\n",
      "C36H67NO4^M+K\n",
      "C37H67NO12^M+Na;C39H65NO12^M+H;C38H72NO8P^M+K\n",
      "C38H71NO4^M+K\n",
      "C39H71O22P^M+K\n",
      "C39H72NO7P^M+K\n",
      "C41H76NO8P^M+K\n",
      "C43H72NO6P^M+K;C39H72NO10P^M+Na;C41H70NO10P^M+H\n",
      "C44H78NO11P^M+H;C42H79NO13^M+Na;C48H78NO8P^M+H;C43H84NO9P^M+K;C46H80NO8P^M+Na\n",
      "C47H89NO9^M+K;C47H90NO7P^M+K\n",
      "C49H94NO8P^M+K\n"
     ]
    }
   ],
   "source": [
    "## This comparsion is purely based on molecular formula and adduct combination\n",
    "## the dataset without taking the retention time into account!\n",
    "## This makes it much easier to compare, but identification with the same molecular formula, adduct\n",
    "## combination at a different retention time are lost.\n",
    "\n",
    "# libraries\n",
    "mdia_lib_p = \"/Volumes/elements/MetaboDIA/comparison/metabodia/DDA_msconvert_mzXML_10ppm_min_s02_pf00.txt\"\n",
    "oms_lib_p = \"/Volumes/elements/MetaboDIA/comparison/agm/20201129_s45_mt1_resolve_totoc_67_02.tsv\"\n",
    "comb_lib_p = \"/Volumes/elements/MetaboDIA/Option_1/combined_library_02_67/prepare_lib/20201215_combined_mdiaoms_library_67.tsv\"\n",
    "oms_lib_p_uk = \"/Volumes/elements/MetaboDIA/comparison/agm/20201129_s45_mt1_resolve_unknown_totoc_67_02.tsv\"\n",
    "\n",
    "# rt mapping\n",
    "mdia_quant_mapping_p = \"/Volumes/elements/MetaboDIA/comparison/mapDIA_analysis/mdia_10ppm_25ppm_min_spec_02_pf00/DIA_msconvert_mzxml_centroided_25ppm_min_s02_pf00_mapping.txt\"\n",
    "\n",
    "# quantification\n",
    "mdia_quant_p = \"/Volumes/elements/MetaboDIA/comparison/mapDIA_analysis/mdia_10ppm_25ppm_min_spec_02_pf00/protein_level_mdia_10ppm_25ppm_min_spec_02_pf00_format.txt\"\n",
    "#mdia_quant_p = \"/Volumes/elements/MetaboDIA/comparison/mapDIA_analysis/mdia_10ppm_25ppm_min_spec_02_pf00/DIA_msconvert_mzxml_centroided_25ppm_min_s02_pf00_mapping.txt\"\n",
    "\n",
    "mdia_oms_quant_p = \"/Volumes/elements/MetaboDIA/comparison/mapDIA_analysis/oms_mdia_10ppm_25ppm_min_spec_02_pf00/20201205_oms_mdia_10ppm_25ppm_min_spec_02_pf00_DIAlignR_std_linear_mapping.tsv\"\n",
    "oms_quant_p = \"/Volumes/elements/MetaboDIA/comparison/mapDIA_analysis/s45_mt1_resolve_totoc_02_67/20201214_s45_mt1_resolve_totoc_02_67_DIAlignR_std_linear_mapping.tsv\"\n",
    "comp_quant_p = \"/Volumes/elements/MetaboDIA/comparison/mapDIA_analysis/combined_library_02_67/20201214_combined_library_02_67_DIAlignR_std_linear_mapping.tsv\"\n",
    "\n",
    "oms_quant_p_uk = \"/Volumes/elements/MetaboDIA/comparison/mapDIA_analysis/s45_mt1_resolve_unknown_totoc_02_67/20201214_s45_mt1_resolve_unknown_totoc_02_67_DIAlignR_std_linear_mapping.tsv\"\n",
    "\n",
    "# read the library\n",
    "mdia_lib_cl = read_metabodia_library(mdia_lib_p)\n",
    "\n",
    "count_compounds_less_3_fragments_02 = 0\n",
    "mdia_lib = []\n",
    "for element in mdia_lib_cl:\n",
    "    if len(element.fragment_mz) < 3:\n",
    "        count_compounds_less_3_fragments_02 +=1\n",
    "    else:\n",
    "        mdia_lib.append(element)\n",
    "print(\"count_compounds_less_3_fragments_02: \" + str(count_compounds_less_3_fragments_02))\n",
    "\n",
    "oms_lib = read_openms_assay_library(oms_lib_p) \n",
    "comb_lib = read_openms_assay_library(comb_lib_p)\n",
    "oms_lib_uk = read_openms_assay_library(oms_lib_p_uk)\n",
    "\n",
    "# read the quant\n",
    "mdia_quant_mapping = pd.read_csv(mdia_quant_mapping_p, sep = '\\t')\n",
    "mdia_quant = pd.read_csv(mdia_quant_p, sep = '\\t')\n",
    "\n",
    "mdia_quant = mdia_quant.drop(columns=['RT'])\n",
    "mdia_oms_quant = pd.read_csv(mdia_oms_quant_p, sep = '\\t')\n",
    "oms_quant = pd.read_csv(oms_quant_p, sep = '\\t')\n",
    "comb_quant = pd.read_csv(comp_quant_p, sep = '\\t')\n",
    "oms_quant_uk = pd.read_csv(oms_quant_p_uk, sep = '\\t')\n",
    "\n",
    "#### use mdia_quant_mapping_p to recover the RT on protein level! \n",
    "mdia_quant_mapping = mdia_quant_mapping[['Protein', 'RT']]\n",
    "mdia_quant_mapping = mdia_quant_mapping.drop_duplicates()\n",
    "mdia_quant = pd.merge(mdia_quant, mdia_quant_mapping, left_on='Protein', right_on='Protein')\n",
    "\n",
    "## mdia - mdia\n",
    "mdia_lib_list = []\n",
    "for comp in mdia_lib:\n",
    "    des = []\n",
    "    descriptions = comp.description.split(\";\")\n",
    "    for element in descriptions:\n",
    "        des.append(re.sub(\"_.*$\",\"\",element))\n",
    "    description = ';'.join(des)\n",
    "    mdia_lib_list.append(str(description))\n",
    "\n",
    "mdia_quant_list = mdia_quant['Protein'].tolist()\n",
    "\n",
    "## mdia - mdia-oms\n",
    "mdia_oms_quant_list = []\n",
    "for element in mdia_oms_quant['Protein'].tolist():\n",
    "    element = re.sub(\"^\\d*_\",\"\",element)\n",
    "    mdia_oms_quant_list.append(element)\n",
    "\n",
    "## Set is unique - so probably the ones with different retention time are gone!! \n",
    "## 460 536 440\n",
    "## Yes, when using a set it adds up! But has no reference to retention time for probably different compounds \n",
    "## lipids\n",
    "\n",
    "## oms - oms \n",
    "oms_lib_list = []\n",
    "for element in oms_lib:\n",
    "    oms_lib_list.append(str(element.formulas[0] + \"_\" + str(element.adducts[0])))\n",
    "\n",
    "oms_quant_list = []\n",
    "for element in oms_quant['Protein'].tolist():\n",
    "    element = re.sub(\"^\\d*_\",\"\",element)\n",
    "    oms_quant_list.append(element)\n",
    "    \n",
    "## oms_uk + oms_uk\n",
    "oms_lib_list_uk = []\n",
    "for element in oms_lib_uk:\n",
    "    oms_lib_list_uk.append(str(element.formulas[0] + \"_\" + str(element.adducts[0])))\n",
    "\n",
    "oms_quant_list_uk = []\n",
    "for element in oms_quant_uk['Protein'].tolist():\n",
    "    element = re.sub(\"^\\d*_\",\"\",element)\n",
    "    oms_quant_list_uk.append(element)\n",
    "        \n",
    "## comb - comb\n",
    "comb_lib_list = []\n",
    "for element in comb_lib:\n",
    "    comb_lib_list.append(str(element.formulas[0] + \"_\" + str(element.adducts[0])))\n",
    "\n",
    "comb_quant_list = []\n",
    "for element in comb_quant['Protein'].tolist():\n",
    "    element = re.sub(\"^\\d*_\",\"\",element)\n",
    "    comb_quant_list.append(element)\n",
    "    \n",
    "\n",
    "########################################################################################\n",
    "\n",
    "## Parse into compound structure -> reuse the library mapping function for quant data. \n",
    "## mdia/mdia_oms vs oms\n",
    "oms_sar = read_oms_quant(oms_quant)\n",
    "mdia_sar = read_mdia_quant(mdia_quant)\n",
    "mdia_oms_sar = read_mdia_oms_quant(mdia_oms_quant) \n",
    "comp_sar = read_oms_quant(comb_quant)\n",
    "\n",
    "## TODO could that be for compareBySumAddRt not works due to description missing? \n",
    "rt_dev = 10\n",
    "mdia_vs_oms = compareBySumAddRt(mdia_sar, oms_sar, rt_dev)\n",
    "mdia_oms_vs_oms = compareBySumAddRt(mdia_oms_sar, oms_sar, rt_dev)\n",
    "print(len(mdia_vs_oms.non_overlapping_oms))\n",
    "print(len(mdia_vs_oms.non_overlapping_mdia))\n",
    "print(len(mdia_vs_oms.overlapping_oms))\n",
    "print(len(mdia_vs_oms.overlapping_mdia))\n",
    "\n",
    "print(\"mdia_vs_oms.non_overlapping_mdia\")\n",
    "for element in mdia_vs_oms.non_overlapping_mdia:\n",
    "    print(element.description)\n"
   ]
  },
  {
   "cell_type": "code",
   "execution_count": 3,
   "metadata": {},
   "outputs": [
    {
     "data": {
      "image/png": "[encoded data removed]",
      "text/plain": [
       "<Figure size 432x288 with 1 Axes>"
      ]
     },
     "metadata": {},
     "output_type": "display_data"
    }
   ],
   "source": [
    "## Compare mdia (lib, quant) + mdia_oms (quant)\n",
    "v01 = venn3([set(mdia_lib_list), set(mdia_quant_list), set(mdia_oms_quant_list)],\n",
    "            ('mdia_library','mdia_quant', 'diametalyzer_quant'))\n"
   ]
  },
  {
   "cell_type": "code",
   "execution_count": 4,
   "metadata": {},
   "outputs": [
    {
     "data": {
      "image/png": "[encoded data removed]",
      "text/plain": [
       "<Figure size 432x288 with 1 Axes>"
      ]
     },
     "metadata": {
      "needs_background": "light"
     },
     "output_type": "display_data"
    }
   ],
   "source": [
    "x = ['MetaboDIA', 'DIAMetAlyzer']\n",
    "yquant = [54, 440]\n",
    "\n",
    "fig, ax = plt.subplots() \n",
    "plt.bar(x,yquant)\n",
    "  \n",
    "plt.ylabel('Number of quantified features\\n')\n",
    "plt.xlabel('Tool used to quantify features based on the MetaboDIA_Library')\n",
    "\n",
    "plt.savefig('/Users/alka/Documents/work/projects/DIAMetAlyzer_all/OSW_inkscape/publication/2021/features_quant_metabodia_library.svg', format=\"svg\")"
   ]
  },
  {
   "cell_type": "code",
   "execution_count": 5,
   "metadata": {},
   "outputs": [
    {
     "data": {
      "image/png": "[encoded data removed]",
      "text/plain": [
       "<Figure size 432x288 with 1 Axes>"
      ]
     },
     "metadata": {},
     "output_type": "display_data"
    }
   ],
   "source": [
    "## Compare OMS lib to OMS Quant\n",
    "v03 = venn2([set(oms_lib_list), set(oms_quant_list)],\n",
    "            ('DIAMetAlyzer_library','DIAMetAlyzer_quant'))\n"
   ]
  },
  {
   "cell_type": "code",
   "execution_count": 6,
   "metadata": {},
   "outputs": [
    {
     "data": {
      "image/png": "[encoded data removed]",
      "text/plain": [
       "<Figure size 432x288 with 1 Axes>"
      ]
     },
     "metadata": {},
     "output_type": "display_data"
    }
   ],
   "source": [
    "## Compare OMS lib unknown to OMS Quant unknown\n",
    "v03 = venn2([set(oms_lib_list_uk), set(oms_quant_list_uk)],\n",
    "            ('DIAMetAlyzer_library_uk','DIAMetAlyzer_quant_uk'))\n"
   ]
  },
  {
   "cell_type": "code",
   "execution_count": 7,
   "metadata": {},
   "outputs": [
    {
     "data": {
      "text/plain": [
       "<matplotlib_venn._common.VennDiagram at 0x7fc1edc54670>"
      ]
     },
     "execution_count": 7,
     "metadata": {},
     "output_type": "execute_result"
    },
    {
     "data": {
      "image/png": "[encoded data removed]",
      "text/plain": [
       "<Figure size 432x288 with 1 Axes>"
      ]
     },
     "metadata": {},
     "output_type": "display_data"
    }
   ],
   "source": [
    "# Quant mdia vs oms\n",
    "to_plot = mdia_vs_oms\n",
    "venn2(subsets = (len(to_plot.non_overlapping_mdia), \n",
    "                 len(to_plot.non_overlapping_oms),\n",
    "                 len(to_plot.overlapping_oms)), \n",
    "                 set_labels = ('MetaboDIA', 'DIAMetAlyzer'))\n"
   ]
  },
  {
   "cell_type": "code",
   "execution_count": 8,
   "metadata": {},
   "outputs": [
    {
     "data": {
      "text/plain": [
       "<matplotlib_venn._common.VennDiagram at 0x7fc1ee16f550>"
      ]
     },
     "execution_count": 8,
     "metadata": {},
     "output_type": "execute_result"
    },
    {
     "data": {
      "image/png": "[encoded data removed]",
      "text/plain": [
       "<Figure size 432x288 with 1 Axes>"
      ]
     },
     "metadata": {},
     "output_type": "display_data"
    }
   ],
   "source": [
    "# Quant mdia vs oms\n",
    "to_plot = mdia_oms_vs_oms\n",
    "venn2(subsets = (len(to_plot.non_overlapping_mdia), \n",
    "                 len(to_plot.non_overlapping_oms),\n",
    "                 len(to_plot.overlapping_oms)), \n",
    "                 set_labels = ('DIAMetAlyzer_MDIA_library', 'DIAMetAlyzer'))"
   ]
  },
  {
   "cell_type": "code",
   "execution_count": 9,
   "metadata": {
    "scrolled": true
   },
   "outputs": [
    {
     "data": {
      "image/png": "[encoded data removed]",
      "text/plain": [
       "<Figure size 432x288 with 1 Axes>"
      ]
     },
     "metadata": {},
     "output_type": "display_data"
    }
   ],
   "source": [
    "## Compare comb lib to comb Quant\n",
    "v03 = venn2([set(comb_lib_list), set(comb_quant_list)],\n",
    "            ('combined_library','DIAMetAlyzer_quant'))"
   ]
  },
  {
   "cell_type": "code",
   "execution_count": 10,
   "metadata": {},
   "outputs": [
    {
     "data": {
      "image/png": "[encoded data removed]",
      "text/plain": [
       "<Figure size 432x288 with 1 Axes>"
      ]
     },
     "metadata": {},
     "output_type": "display_data"
    }
   ],
   "source": [
    "v04 = venn2([set(oms_quant_list), set(comb_quant_list)],\n",
    "            ('DIAMetAlyzer_quant_known','DIAMetAlyzer_quant_combined'))"
   ]
  },
  {
   "cell_type": "code",
   "execution_count": 11,
   "metadata": {},
   "outputs": [
    {
     "data": {
      "image/png": "[encoded data removed]",
      "text/plain": [
       "<Figure size 432x288 with 1 Axes>"
      ]
     },
     "metadata": {
      "needs_background": "light"
     },
     "output_type": "display_data"
    }
   ],
   "source": [
    "x = ['MetaboDIA', 'DIAMetAlyzer', \"Combined\", \"DIAMetAlyzer_UK\"]\n",
    "yquant = [440, 550, 682, 811]\n",
    "\n",
    "fig, ax = plt.subplots() \n",
    "plt.bar(x,yquant)\n",
    "\n",
    "labels = ['n = 440', 'n = 550', 'n = 682', 'n = 811']\n",
    "  \n",
    "plt.ylabel('Number of quantified features\\n')\n",
    "plt.xlabel('\\nLibrary used for targeted quantifciation the DIAMetAlyzer')\n",
    "\n",
    "   \n",
    "#plt.show()\n",
    "plt.savefig('/Users/alka/Documents/work/projects/DIAMetAlyzer_all/OSW_inkscape/publication/2021/features_quant.svg', format=\"svg\")"
   ]
  }
 ],
 "metadata": {
  "kernelspec": {
   "display_name": "Python 3",
   "language": "python",
   "name": "python3"
  },
  "language_info": {
   "codemirror_mode": {
    "name": "ipython",
    "version": 3
   },
   "file_extension": ".py",
   "mimetype": "text/x-python",
   "name": "python",
   "nbconvert_exporter": "python",
   "pygments_lexer": "ipython3",
   "version": "3.9.0"
  }
 },
 "nbformat": 4,
 "nbformat_minor": 4
}
