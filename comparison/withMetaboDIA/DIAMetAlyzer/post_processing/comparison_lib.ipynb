{
 "cells": [
  {
   "cell_type": "code",
   "execution_count": 1,
   "metadata": {
    "scrolled": true
   },
   "outputs": [
    {
     "name": "stdout",
     "output_type": "stream",
     "text": [
      "metabodialib_00_cl: 5713\n",
      "metabodialib_02_cl: 536\n",
      "metabodialib_05_cl: 162\n",
      "count_compounds_less_3_fragments_00: 1011\n",
      "count_compounds_less_3_fragments_02: 76\n",
      "count_compounds_less_3_fragments_05: 15\n",
      "comp_mt1_00_l: 6917\n",
      "comp_mt1_02_l: 839\n",
      "comp_mt1_05_l: 310\n",
      "openmslib_mt1_s45_00_l: 4333\n",
      "openmslib_mt1_s45_02_l: 695\n",
      "openmslib_mt1_s45_05_l: 271\n",
      "openmslib_mt1_s45_00_uk_l: 7520\n",
      "openmslib_mt1_s45_02_uk_l: 1048\n",
      "openmslib_mt1_s45_05_uk_l: 375\n",
      "mzrt_m00_mt1_00.overlapping_oms:9\n",
      "mzrt_m00_mt1_00.overlapping_mdia:9\n",
      "mzrt_m02_mt1_02.overlapping_oms:1\n",
      "mzrt_m02_mt1_02.overlapping_mdia:1\n",
      "mzrt_m05_mt1_05.overlapping_oms:0\n",
      "mzrt_m05_mt1_05.overlapping_mdia:0\n",
      "mzrt_00_comp_mt1_00.overlapping_oms:999\n",
      "mzrt_00_comp_mt1_00.overlapping_mdia:999\n",
      "mzrt_02_comp_mt1_02.overlapping_oms:82\n",
      "mzrt_02_comp_mt1_02.overlapping_mdia:82\n",
      "mzrt_05_comp_mt1_05.overlapping_oms:17\n",
      "mzrt_05_comp_mt1_05.overlapping_mdia:17\n"
     ]
    }
   ],
   "source": [
    "import re\n",
    "import csv \n",
    "import math\n",
    "import pandas as pd\n",
    "import matplotlib.pyplot as plt\n",
    "from matplotlib_venn import *\n",
    "%matplotlib inline\n",
    "\n",
    "class Compound:\n",
    "    def __init__(self,\n",
    "                formulas = [],\n",
    "                adducts = [],\n",
    "                description = \"\",\n",
    "                precursor_mz = 0.0,\n",
    "                charge = \"\",\n",
    "                rt = \"\",\n",
    "                fragment_mz = [],\n",
    "                fragment_int = []):\n",
    "        self.formulas = formulas\n",
    "        self.adducts = adducts\n",
    "        self.description = description\n",
    "        self.precursor_mz = precursor_mz\n",
    "        self.charge = charge\n",
    "        self.rt = rt\n",
    "        self.fragment_mz = fragment_mz\n",
    "        self.fragment_int = fragment_int\n",
    "        \n",
    "class Matches:\n",
    "    def __init__(self,\n",
    "                 overlapping_oms = [],\n",
    "                 non_overlapping_oms = [],\n",
    "                 overlapping_mdia = [],\n",
    "                 non_overlapping_mdia = [],\n",
    "                 overlapping_rt_dict = {},\n",
    "                 overlapping_formula_dict = {}):\n",
    "        self.overlapping_oms = overlapping_oms\n",
    "        self.non_overlapping_oms = non_overlapping_oms\n",
    "        self.overlapping_mdia = overlapping_mdia\n",
    "        self.non_overlapping_mdia = non_overlapping_mdia\n",
    "        self.overlapping_rt_dict = overlapping_rt_dict\n",
    "        self.overlapping_formula_dict = overlapping_formula_dict\n",
    "        \n",
    "def useCompoundMass(compound):\n",
    "    return compound.precursor_mz\n",
    "\n",
    "def read_metabodia_library(in_library_path):\n",
    "    compoundlist = []\n",
    "    description = \"\"\n",
    "\n",
    "    file = open(in_library_path, 'r')\n",
    "    line = file.readline()\n",
    "    index = 0\n",
    "    while line: \n",
    "        line = line.strip()\n",
    "        lastlineoffileemtpy = len(line.strip()) == 0\n",
    "        if line.startswith(\"Putative_formula_MS1:\") or lastlineoffileemtpy:\n",
    "            if (index == 0):\n",
    "                compound = Compound()\n",
    "            if (description != \"\"):\n",
    "                compoundlist.append(compound)\n",
    "                compound = Compound()\n",
    "                compound.formulas = []\n",
    "                compound.adducts = []\n",
    "                compound.fragment_mz = []\n",
    "                compound.fragment_int = []\n",
    "            description = line.split(\" \")[1].strip()\n",
    "            compound.description = description\n",
    "            for element in description.split(\";\"):\n",
    "                index_1 = element.index(\"^\")\n",
    "                index_2 = element.index(\"_\")\n",
    "                compound.formulas.append(element[0:index_1])\n",
    "                compound.adducts.append(str(\"[\" + element[index_1+1:index_2] + \"]+\")) # TODO: Not sure if that works for all cases. Here only charge 1. \n",
    "        if line.startswith(\"Precursor m/z:\"):\n",
    "            compound.precursor_mz = float(line.split(\" \")[2])\n",
    "        if line.startswith(\"Charge state:\"):\n",
    "            compound.charge = line.split(\" \")[2]\n",
    "        if line.startswith(\"RT:\"):\n",
    "            compound.rt = line.split(\" \")[1]\n",
    "        if line.startswith(tuple('0123456789')):\n",
    "            compound.fragment_mz.append(line.split(\"\\t\")[0].strip())\n",
    "            compound.fragment_int.append(line.split(\"\\t\")[1].strip(\"\\n\").strip())\n",
    "        line = file.readline()\n",
    "        index += 1\n",
    "\n",
    "    file.close()\n",
    "    compoundlist.sort(key=useCompoundMass)\n",
    "    return(compoundlist)\n",
    "\n",
    "def read_openms_assay_library(openmslib_path):\n",
    "    compoundlist = []\n",
    "    d_lib = dict()\n",
    "    df_assay_lib = pd.read_csv(openmslib_path, sep = '\\t')\n",
    "\n",
    "    # filter decoys\n",
    "    df_assay_lib = df_assay_lib[df_assay_lib['Decoy'] == 0]\n",
    "\n",
    "    unique_tgid = df_assay_lib.TransitionGroupId.unique()\n",
    "    for element in unique_tgid:\n",
    "        d_lib[element] = df_assay_lib[df_assay_lib['TransitionGroupId'] == element]\n",
    "\n",
    "    for key, value in d_lib.items():\n",
    "        compound = Compound()\n",
    "        # filter empty entries \n",
    "        if not value['SumFormula'].unique(): \n",
    "            continue\n",
    "        compound.formulas = value['SumFormula'].unique()\n",
    "        compound.adducts = value['Adducts'].unique()\n",
    "        compound.description = value['CompoundName'].unique()[0]\n",
    "        compound.precursor_mz = value['PrecursorMz'].unique()[0]\n",
    "        compound.charge = value['PrecursorCharge'].unique()[0]\n",
    "        compound.rt = value['NormalizedRetentionTime'].unique()[0]\n",
    "        compound.fragment_mz = value['ProductMz'].tolist()\n",
    "        compound.fragment_int = value['LibraryIntensity'].tolist()\n",
    "        compoundlist.append(compound)\n",
    "    \n",
    "    compoundlist.sort(key=useCompoundMass)\n",
    "    return compoundlist\n",
    "\n",
    "def writeMapping(matches, output_path):\n",
    "    csv_columns = ['mdia_formula', 'oms_formula']\n",
    "    csv_file = output_path\n",
    "    with open(csv_file, 'w') as csvfile:\n",
    "        csvfile.write(\"mdia_formula\\toms_formula\\n\")\n",
    "        for key in matches.overlapping_formula_dict.keys():\n",
    "            csvfile.write(\"%s\\t%s\\n\"%(key,matches.overlapping_formula_dict[key]))\n",
    "    csvfile.close()\n",
    "\n",
    "# intPrecurorMz_Sumformula_Adduct\n",
    "def extractUniqueIdentifiers(compound_list):\n",
    "    compound_keys = []\n",
    "    for element in compound_list:\n",
    "        if len(element.formulas) == len(element.adducts):\n",
    "            same_compound = []\n",
    "            for i in range(0,len(element.formulas)):\n",
    "                same_compound.append(str(str(int(element.precursor_mz)) + \"_\" + str(element.formulas[i]) + \"_\" + str(element.adducts[i])))\n",
    "            compound_keys.append(same_compound)\n",
    "        else:\n",
    "            print(\"There seem to be something wrong!\")\n",
    "    return compound_keys\n",
    "\n",
    "def truncate(f, n):\n",
    "    return math.floor(f * 10 ** n) / 10 ** n\n",
    "\n",
    "# intPrecurorMz_Sumformula_Adduct\n",
    "def extractPrecursorMzWithNDecimals(compound_list, decimals):\n",
    "    compound_keys = []\n",
    "    for element in compound_list:\n",
    "        compound_keys.append(truncate(element.precursor_mz, decimals))\n",
    "    return compound_keys\n",
    "\n",
    "def intersection(lst1, lst2):\n",
    "    return list(set(lst1) & set(lst2))\n",
    "\n",
    "# comparison based on molecular_formula, adduct and the retention time \n",
    "def compareBySumAddRt(mdia_lib, oms_lib, rt_dev):\n",
    "    oms_dict = {}\n",
    "    for compound in oms_lib:\n",
    "        # index 0, since oms only one formula and adduct\n",
    "        key = str(compound.formulas[0] + \"_\" + compound.adducts[0])\n",
    "        new_value = []\n",
    "        new_value.append(compound.rt)\n",
    "        if key in oms_dict:\n",
    "            current_value = oms_dict[key]\n",
    "            combined_value = current_value + new_value\n",
    "            oms_dict[key] = combined_value\n",
    "        else:\n",
    "            oms_dict[key] = new_value\n",
    "\n",
    "    overlapping_rt_dict = {}  \n",
    "    overlapping_formula_dict = {}\n",
    "    not_in_dictionary = [] # compounds which had no match \n",
    "    in_dictionary = [] # compounds which had a match\n",
    "    valid_lookup_keys = [] # key which had a match in the oms_dict\n",
    "    for compound in mdia_lib:\n",
    "        l_size = len(compound.formulas)\n",
    "        for i in range(0,l_size):\n",
    "            key = str(compound.formulas[i] + \"_\" + compound.adducts[i])\n",
    "            #print(key)\n",
    "            if key in oms_dict:\n",
    "                current_entry = oms_dict[key]\n",
    "                #print(current_entry)\n",
    "                # iterate over rt in dict_oms\n",
    "                for j in range(0,len(current_entry)):\n",
    "                    # check if retention time within a certain threshold\n",
    "                    min_rt = current_entry[j] - rt_dev\n",
    "                    max_rt = current_entry[j] + rt_dev\n",
    "                    #print(\"c_entry: \" + str(current_entry[j]))\n",
    "                    #print(\"m_entry: \" + str(compound.rt))\n",
    "                    #print(\"min_rt: \" + str(min_rt))\n",
    "                    #print(\"max_rt: \" + str(max_rt))\n",
    "                    rt_bool = float(compound.rt) >= float(min_rt) and float(compound.rt) <= float(max_rt)\n",
    "                    #print(rt_bool)\n",
    "                    if (rt_bool):\n",
    "                        des = []\n",
    "                        descriptions = compound.description.split(\";\")\n",
    "                        for element in descriptions:\n",
    "                            des.append(re.sub(\"_.*$\",\"\",element))\n",
    "                        description = ';'.join(des)\n",
    "                        if compound.rt in overlapping_rt_dict:\n",
    "                            overlapping_rt_dict[compound.rt].append(current_entry[j])\n",
    "                        else:\n",
    "                            l_rt = [current_entry[j]]\n",
    "                            overlapping_rt_dict[compound.rt] = l_rt  \n",
    "                        if description in overlapping_formula_dict:\n",
    "                            overlapping_formula_dict[description].append(str(key))\n",
    "                        else:\n",
    "                            l_key = [str(key)]\n",
    "                            overlapping_formula_dict[description] = l_key\n",
    "                        in_dictionary.append(compound) # save mdia entry ## TODO happens to often \n",
    "                        lookup_key = str(str(key) + \"_\" + str(current_entry[j]))\n",
    "                        valid_lookup_keys.append(lookup_key)\n",
    "\n",
    "    # Resolve overlapping / non_overlapping compounds in oms\n",
    "    overlapping_compounds_oms = []\n",
    "    non_overlapping_compounds_oms = []\n",
    "    for compound in oms_lib:\n",
    "        lookup = str(compound.formulas[0] + \"_\" + compound.adducts[0] + \"_\" + str(compound.rt))\n",
    "        if lookup in valid_lookup_keys:\n",
    "            overlapping_compounds_oms.append(compound)\n",
    "        else:\n",
    "            non_overlapping_compounds_oms.append(compound)\n",
    "\n",
    "    # Resolve overlapping / non_overlapping compounds in mdia \n",
    "    overlapping_compounds_mdia = []\n",
    "    non_overlapping_compounds_mdia = []\n",
    "    in_dictionary = set(in_dictionary)\n",
    "    for compound in mdia_lib:\n",
    "        if compound in in_dictionary:\n",
    "            overlapping_compounds_mdia.append(compound)\n",
    "        else:\n",
    "            non_overlapping_compounds_mdia.append(compound)\n",
    "            \n",
    "    matches = Matches()\n",
    "    matches.overlapping_oms = overlapping_compounds_oms\n",
    "    matches.non_overlapping_oms = non_overlapping_compounds_oms\n",
    "    matches.overlapping_mdia = overlapping_compounds_mdia\n",
    "    matches.non_overlapping_mdia = non_overlapping_compounds_mdia\n",
    "    matches.overlapping_rt_dict = overlapping_rt_dict\n",
    "    matches.overlapping_formula_dict = overlapping_formula_dict\n",
    "    \n",
    "    return matches\n",
    "\n",
    "def checkStillOverlappingByMzRt(matches, ppm_dev, rt_dev):\n",
    "    overlapping_mdia = []\n",
    "    overlapping_oms = []\n",
    "    for c_mdia in matches.non_overlapping_mdia:\n",
    "        for c_oms in matches.non_overlapping_oms:\n",
    "            min_rt = c_oms.rt - rt_dev\n",
    "            max_rt = c_oms.rt + rt_dev\n",
    "            mz_uncertainty = float(c_oms.precursor_mz) * float(ppm_dev) * 1e-6\n",
    "            min_mz = float(c_oms.precursor_mz) - mz_uncertainty\n",
    "            max_mz = float(c_oms.precursor_mz) + mz_uncertainty\n",
    "            rt_bool = float(c_mdia.rt) >= float(min_rt) and float(c_mdia.rt) <= float(max_rt)\n",
    "            mz_bool = float(c_mdia.precursor_mz) >= float(min_mz) and float(c_mdia.precursor_mz) <= float(max_mz)\n",
    "            if (rt_bool and mz_bool):\n",
    "                overlapping_oms.append(c_oms)\n",
    "                overlapping_mdia.append(c_mdia)\n",
    "            \n",
    "    match_mz_rt = Matches()\n",
    "    match_mz_rt.overlapping_oms = overlapping_oms\n",
    "    match_mz_rt.overlapping_mdia = overlapping_mdia\n",
    "    return match_mz_rt\n",
    "\n",
    "####### input paths #######\n",
    "metabodialib_00 = \"/Volumes/elements/MetaboDIA/comparison/metabodia/DDA_msconvert_mzXML_10ppm_min_s00001_pf00.txt\"\n",
    "metabodialib_02 = \"/Volumes/elements/MetaboDIA/comparison/metabodia/DDA_msconvert_mzXML_10ppm_min_s02_pf00.txt\"\n",
    "metabodialib_05 = \"/Volumes/elements/MetaboDIA/comparison/metabodia/DDA_msconvert_mzXML_10ppm_min_s05_pf00.txt\"\n",
    "\n",
    "comb_lib_00 = \"/Volumes/elements/MetaboDIA/Option_1/combined_library_00/20201215_combined_mdiaoms_library_67_00.tsv\"\n",
    "comb_lib_02 = \"/Volumes/elements/MetaboDIA/Option_1/combined_library_02_67/prepare_lib/20201215_combined_mdiaoms_library_67.tsv\"\n",
    "comb_lib_05 = \"/Volumes/elements/MetaboDIA/Option_1/combined_library_05/20201215_combined_mdiaoms_library_67_05.tsv\"\n",
    "\n",
    "openmslib_mt1_s45_00 = \"/Volumes/elements/MetaboDIA/comparison/agm/20201129_s45_mt1_resolve_totoc_67_00.tsv\"\n",
    "openmslib_mt1_s45_02 = \"/Volumes/elements/MetaboDIA/comparison/agm/20201129_s45_mt1_resolve_totoc_67_02.tsv\"\n",
    "openmslib_mt1_s45_05 = \"/Volumes/elements/MetaboDIA/comparison/agm/20201129_s45_mt1_resolve_totoc_67_05.tsv\"\n",
    "\n",
    "openmslib_mt1_s45_00_uk = \"/Volumes/elements/MetaboDIA/comparison/agm/20201129_s45_mt1_resolve_unknown_totoc_00.tsv\"\n",
    "openmslib_mt1_s45_02_uk = \"/Volumes/elements/MetaboDIA/comparison/agm/20201129_s45_mt1_resolve_unknown_totoc_67_02.tsv\"\n",
    "openmslib_mt1_s45_05_uk = \"/Volumes/elements/MetaboDIA/comparison/agm/20201129_s45_mt1_resolve_unknown_totoc_05.tsv\"\n",
    "\n",
    "\n",
    "####### read the libraries #######\n",
    "# metabodia\n",
    "metabodialib_00_cl = read_metabodia_library(metabodialib_00)\n",
    "print(\"metabodialib_00_cl: \" + str(len(metabodialib_00_cl)))\n",
    "metabodialib_02_cl = read_metabodia_library(metabodialib_02)\n",
    "print(\"metabodialib_02_cl: \" + str(len(metabodialib_02_cl)))\n",
    "metabodialib_05_cl = read_metabodia_library(metabodialib_05)\n",
    "print(\"metabodialib_05_cl: \" + str(len(metabodialib_05_cl)))\n",
    "\n",
    "## count mz <= 3 \n",
    "count_compounds_less_3_fragments_00 = 0\n",
    "metabodialib_00_l = []\n",
    "for element in metabodialib_00_cl:\n",
    "    if len(element.fragment_mz) < 3:\n",
    "        count_compounds_less_3_fragments_00 +=1\n",
    "    else:\n",
    "        metabodialib_00_l.append(element)\n",
    "print(\"count_compounds_less_3_fragments_00: \" + str(count_compounds_less_3_fragments_00))\n",
    "\n",
    "count_compounds_less_3_fragments_02 = 0\n",
    "metabodialib_02_l = []\n",
    "for element in metabodialib_02_cl:\n",
    "    if len(element.fragment_mz) < 3:\n",
    "        count_compounds_less_3_fragments_02 +=1\n",
    "    else:\n",
    "        metabodialib_02_l.append(element)\n",
    "print(\"count_compounds_less_3_fragments_02: \" + str(count_compounds_less_3_fragments_02))\n",
    "\n",
    "count_compounds_less_3_fragments_05 = 0\n",
    "metabodialib_05_l = []\n",
    "for element in metabodialib_05_cl:\n",
    "    if len(element.fragment_mz) < 3:\n",
    "        count_compounds_less_3_fragments_05 +=1\n",
    "    else:\n",
    "        metabodialib_05_l.append(element)\n",
    "print(\"count_compounds_less_3_fragments_05: \" + str(count_compounds_less_3_fragments_05))\n",
    "\n",
    "comp_mt1_00_l = read_openms_assay_library(comb_lib_00)\n",
    "print(\"comp_mt1_00_l: \" + str(len(comp_mt1_00_l)))\n",
    "comp_mt1_02_l = read_openms_assay_library(comb_lib_02)\n",
    "print(\"comp_mt1_02_l: \" + str(len(comp_mt1_02_l)))\n",
    "comp_mt1_05_l = read_openms_assay_library(comb_lib_05)\n",
    "print(\"comp_mt1_05_l: \" + str(len(comp_mt1_05_l)))\n",
    "\n",
    "# known\n",
    "openmslib_mt1_s45_00_l = read_openms_assay_library(openmslib_mt1_s45_00)\n",
    "print(\"openmslib_mt1_s45_00_l: \" + str(len(openmslib_mt1_s45_00_l)))\n",
    "openmslib_mt1_s45_02_l = read_openms_assay_library(openmslib_mt1_s45_02)\n",
    "print(\"openmslib_mt1_s45_02_l: \" + str(len(openmslib_mt1_s45_02_l)))\n",
    "openmslib_mt1_s45_05_l = read_openms_assay_library(openmslib_mt1_s45_05)\n",
    "print(\"openmslib_mt1_s45_05_l: \" + str(len(openmslib_mt1_s45_05_l)))\n",
    "\n",
    "# unknown\n",
    "openmslib_mt1_s45_00_uk_l = read_openms_assay_library(openmslib_mt1_s45_00_uk)\n",
    "print(\"openmslib_mt1_s45_00_uk_l: \" + str(len(openmslib_mt1_s45_00_uk_l)))\n",
    "openmslib_mt1_s45_02_uk_l = read_openms_assay_library(openmslib_mt1_s45_02_uk)\n",
    "print(\"openmslib_mt1_s45_02_uk_l: \" + str(len(openmslib_mt1_s45_02_uk_l)))\n",
    "openmslib_mt1_s45_05_uk_l = read_openms_assay_library(openmslib_mt1_s45_05_uk)\n",
    "print(\"openmslib_mt1_s45_05_uk_l: \" + str(len(openmslib_mt1_s45_05_uk_l)))\n",
    "\n",
    "####### Prepare the comparison #######\n",
    "\n",
    "# comparisons based on molecular formula, adduct and retention time\n",
    "rt_dev = 10 # +/-\n",
    "\n",
    "mdia_00_oms_mt1_00 = compareBySumAddRt(metabodialib_00_l, openmslib_mt1_s45_00_l, rt_dev)\n",
    "mdia_02_oms_mt1_02 = compareBySumAddRt(metabodialib_02_l, openmslib_mt1_s45_02_l, rt_dev)\n",
    "mdia_05_oms_mt1_05 = compareBySumAddRt(metabodialib_05_l, openmslib_mt1_s45_05_l, rt_dev)\n",
    "\n",
    "mdia_00_comp_mt1_00 = compareBySumAddRt(metabodialib_00_l, comp_mt1_00_l, rt_dev)\n",
    "mdia_02_comp_mt1_02 = compareBySumAddRt(metabodialib_02_l, comp_mt1_02_l, rt_dev)\n",
    "mdia_05_comp_mt1_05 = compareBySumAddRt(metabodialib_05_l, comp_mt1_05_l, rt_dev)\n",
    "\n",
    "mdia_00_oms_mt1_00_uk = compareBySumAddRt(metabodialib_00_l, openmslib_mt1_s45_00_uk_l, rt_dev)\n",
    "mdia_02_oms_mt1_02_uk = compareBySumAddRt(metabodialib_02_l, openmslib_mt1_s45_02_uk_l, rt_dev)\n",
    "mdia_05_oms_mt1_05_uk = compareBySumAddRt(metabodialib_05_l, openmslib_mt1_s45_05_uk_l, rt_dev)\n",
    "\n",
    "####### Write dictionary for mapping #######\n",
    "\n",
    "output_dir = \"/Volumes/elements/MetaboDIA/comparison/mapping_from_library/\"\n",
    "writeMapping(mdia_00_oms_mt1_00, str(output_dir + \"mdia_00_oms_mt1_00_67.tsv\"))\n",
    "writeMapping(mdia_02_oms_mt1_02, str(output_dir + \"mdia_02_oms_mt1_02_67.tsv\"))\n",
    "writeMapping(mdia_05_oms_mt1_05, str(output_dir + \"mdia_05_oms_mt1_05.tsv\"))\n",
    "\n",
    "writeMapping(mdia_00_oms_mt1_00_uk, str(output_dir + \"mdia_00_oms_mt1_00_uk.tsv\"))\n",
    "writeMapping(mdia_02_oms_mt1_02_uk, str(output_dir + \"mdia_02_oms_mt1_02_uk_67.tsv\"))\n",
    "writeMapping(mdia_05_oms_mt1_05_uk, str(output_dir + \"mdia_05_oms_mt1_05_uk.tsv\"))\n",
    "\n",
    "# additional check for overlaps based on mz and rt\n",
    "ppm_dev = 10\n",
    "\n",
    "mzrt_m00_mt1_00 = checkStillOverlappingByMzRt(mdia_00_oms_mt1_00, ppm_dev, rt_dev)\n",
    "print(\"mzrt_m00_mt1_00.overlapping_oms:\" + str(len(mzrt_m00_mt1_00.overlapping_oms)))\n",
    "print(\"mzrt_m00_mt1_00.overlapping_mdia:\" + str(len(mzrt_m00_mt1_00.overlapping_mdia))) \n",
    "\n",
    "mzrt_m02_mt1_02 = checkStillOverlappingByMzRt(mdia_02_oms_mt1_02, ppm_dev, rt_dev)\n",
    "print(\"mzrt_m02_mt1_02.overlapping_oms:\" + str(len(mzrt_m02_mt1_02.overlapping_oms)))\n",
    "print(\"mzrt_m02_mt1_02.overlapping_mdia:\" + str(len(mzrt_m02_mt1_02.overlapping_mdia)))\n",
    "\n",
    "mzrt_m05_mt1_05 = checkStillOverlappingByMzRt(mdia_05_oms_mt1_05, ppm_dev, rt_dev)\n",
    "print(\"mzrt_m05_mt1_05.overlapping_oms:\" + str(len(mzrt_m05_mt1_05.overlapping_oms)))\n",
    "print(\"mzrt_m05_mt1_05.overlapping_mdia:\" + str(len(mzrt_m05_mt1_05.overlapping_mdia)))\n",
    "\n",
    "mzrt_00_comp_mt1_00 = checkStillOverlappingByMzRt(mdia_00_comp_mt1_00, ppm_dev, rt_dev)\n",
    "print(\"mzrt_00_comp_mt1_00.overlapping_oms:\" + str(len(mzrt_00_comp_mt1_00.overlapping_oms)))\n",
    "print(\"mzrt_00_comp_mt1_00.overlapping_mdia:\" + str(len(mzrt_00_comp_mt1_00.overlapping_mdia)))\n",
    "\n",
    "mzrt_02_comp_mt1_02 = checkStillOverlappingByMzRt(mdia_02_comp_mt1_02, ppm_dev, rt_dev)\n",
    "print(\"mzrt_02_comp_mt1_02.overlapping_oms:\" + str(len(mzrt_02_comp_mt1_02.overlapping_oms)))\n",
    "print(\"mzrt_02_comp_mt1_02.overlapping_mdia:\" + str(len(mzrt_02_comp_mt1_02.overlapping_mdia)))\n",
    "\n",
    "mzrt_05_comp_mt1_05 = checkStillOverlappingByMzRt(mdia_05_comp_mt1_05, ppm_dev, rt_dev)\n",
    "print(\"mzrt_05_comp_mt1_05.overlapping_oms:\" + str(len(mzrt_05_comp_mt1_05.overlapping_oms)))\n",
    "print(\"mzrt_05_comp_mt1_05.overlapping_mdia:\" + str(len(mzrt_05_comp_mt1_05.overlapping_mdia)))\n",
    "\n",
    "# known\n",
    "openmslib_mt1_s45_00_ck = extractUniqueIdentifiers(openmslib_mt1_s45_00_l)\n",
    "openmslib_mt1_s45_00_ck = [item for sublist in openmslib_mt1_s45_00_ck for item in sublist]\n",
    "\n",
    "openmslib_mt1_s45_02_ck = extractUniqueIdentifiers(openmslib_mt1_s45_02_l)\n",
    "openmslib_mt1_s45_02_ck = [item for sublist in openmslib_mt1_s45_02_ck for item in sublist]\n",
    "\n",
    "openmslib_mt1_s45_05_ck = extractUniqueIdentifiers(openmslib_mt1_s45_05_l)\n",
    "openmslib_mt1_s45_05_ck = [item for sublist in openmslib_mt1_s45_05_ck for item in sublist]\n",
    "\n",
    "# known_unknown\n",
    "openmslib_mt1_s45_00_ck_uk = extractUniqueIdentifiers(openmslib_mt1_s45_00_uk_l)\n",
    "openmslib_mt1_s45_00_ck_uk = [item for sublist in openmslib_mt1_s45_00_ck_uk for item in sublist]\n",
    "\n",
    "openmslib_mt1_s45_02_ck_uk = extractUniqueIdentifiers(openmslib_mt1_s45_02_uk_l)\n",
    "openmslib_mt1_s45_02_ck_uk = [item for sublist in openmslib_mt1_s45_02_ck_uk for item in sublist]\n",
    "\n",
    "openmslib_mt1_s45_05_ck_uk = extractUniqueIdentifiers(openmslib_mt1_s45_05_uk_l)\n",
    "openmslib_mt1_s45_05_ck_uk = [item for sublist in openmslib_mt1_s45_05_ck_uk for item in sublist]\n"
   ]
  },
  {
   "cell_type": "code",
   "execution_count": 2,
   "metadata": {},
   "outputs": [],
   "source": [
    "######################## KNOWN ########################"
   ]
  },
  {
   "cell_type": "code",
   "execution_count": 3,
   "metadata": {},
   "outputs": [
    {
     "data": {
      "text/plain": [
       "<matplotlib_venn._common.VennDiagram at 0x7f9e954a5310>"
      ]
     },
     "execution_count": 3,
     "metadata": {},
     "output_type": "execute_result"
    },
    {
     "data": {
      "image/png": "[encoded data removed]",
      "text/plain": [
       "<Figure size 432x288 with 1 Axes>"
      ]
     },
     "metadata": {},
     "output_type": "display_data"
    }
   ],
   "source": [
    "to_plot = mdia_00_oms_mt1_00\n",
    "venn2(subsets = (len(to_plot.non_overlapping_mdia), \n",
    "                 len(to_plot.non_overlapping_oms),\n",
    "                 len(to_plot.overlapping_oms)), \n",
    "                 set_labels = ('MetaboDIA_00', 'DIAMetAlyzer_mt1_00'))\n"
   ]
  },
  {
   "cell_type": "code",
   "execution_count": 4,
   "metadata": {},
   "outputs": [
    {
     "data": {
      "image/png": "[encoded data removed]",
      "text/plain": [
       "<Figure size 432x288 with 1 Axes>"
      ]
     },
     "metadata": {},
     "output_type": "display_data"
    }
   ],
   "source": [
    "\n",
    "to_plot = mdia_02_oms_mt1_02\n",
    "venn2(subsets = (len(to_plot.non_overlapping_mdia), \n",
    "                 len(to_plot.non_overlapping_oms),\n",
    "                 len(to_plot.overlapping_oms)), \n",
    "                 set_labels = ('MetaboDIA', 'DIAMetAlyzer'))\n",
    "\n",
    "plt.savefig('/Users/alka/Documents/work/projects/DIAMetAlyzer_all/OSW_inkscape/publication/2021/features_library.svg', format=\"svg\")\n",
    "\n"
   ]
  },
  {
   "cell_type": "code",
   "execution_count": 5,
   "metadata": {},
   "outputs": [
    {
     "data": {
      "image/png": "[encoded data removed]",
      "text/plain": [
       "<Figure size 432x288 with 1 Axes>"
      ]
     },
     "metadata": {
      "needs_background": "light"
     },
     "output_type": "display_data"
    }
   ],
   "source": [
    "x = ['MetaboDIA', 'DIAMetAlyzer', \"Combined\", \"DIAMetAlyzer_UK\"]\n",
    "ylib = [476, 695, 839, 1048]\n",
    "\n",
    "fig, ax = plt.subplots() \n",
    "plt.bar(x,ylib)\n",
    "\n",
    "labels = ['n = 476', 'n = 695', 'n = 839', 'n = 1048']\n",
    "  \n",
    "plt.ylabel('Number of features in the library') \n",
    "   \n",
    "#plt.show()\n",
    "plt.savefig('/Users/alka/Documents/work/projects/DIAMetAlyzer_all/OSW_inkscape/publication/2021/features_library.png')\n"
   ]
  },
  {
   "cell_type": "code",
   "execution_count": 6,
   "metadata": {},
   "outputs": [
    {
     "data": {
      "text/plain": [
       "<matplotlib_venn._common.VennDiagram at 0x7f9e9d9d6f70>"
      ]
     },
     "execution_count": 6,
     "metadata": {},
     "output_type": "execute_result"
    },
    {
     "data": {
      "image/png": "[encoded data removed]",
      "text/plain": [
       "<Figure size 432x288 with 1 Axes>"
      ]
     },
     "metadata": {},
     "output_type": "display_data"
    }
   ],
   "source": [
    "to_plot = mdia_05_oms_mt1_05\n",
    "venn2(subsets = (len(to_plot.non_overlapping_mdia), \n",
    "                 len(to_plot.non_overlapping_oms),\n",
    "                 len(to_plot.overlapping_oms)), \n",
    "                 set_labels = ('MetaboDIA_05', 'DIAMetAlyzer_mt1_05'))\n"
   ]
  },
  {
   "cell_type": "code",
   "execution_count": 7,
   "metadata": {},
   "outputs": [
    {
     "data": {
      "text/plain": [
       "<matplotlib_venn._common.VennDiagram at 0x7f9e86c8eb20>"
      ]
     },
     "execution_count": 7,
     "metadata": {},
     "output_type": "execute_result"
    },
    {
     "data": {
      "image/png": "[encoded data removed]",
      "text/plain": [
       "<Figure size 432x288 with 1 Axes>"
      ]
     },
     "metadata": {},
     "output_type": "display_data"
    }
   ],
   "source": [
    "to_plot = mdia_00_comp_mt1_00\n",
    "overlap_sum_with_mzrt = len(to_plot.overlapping_oms) + len(mzrt_00_comp_mt1_00.overlapping_mdia)\n",
    "non_overlap_mdia_with_mzrt = len(to_plot.non_overlapping_mdia) - len(mzrt_00_comp_mt1_00.overlapping_mdia)\n",
    "non_overlap_oms_with_mzrt = len(to_plot.non_overlapping_oms) - len(mzrt_00_comp_mt1_00.overlapping_oms)\n",
    "\n",
    "venn2(subsets = (non_overlap_mdia_with_mzrt, \n",
    "                 non_overlap_oms_with_mzrt,\n",
    "                 overlap_sum_with_mzrt), \n",
    "                 set_labels = ('MetaboDIA', 'Combined library'))"
   ]
  },
  {
   "cell_type": "code",
   "execution_count": 8,
   "metadata": {},
   "outputs": [
    {
     "data": {
      "text/plain": [
       "<matplotlib_venn._common.VennDiagram at 0x7f9e863754f0>"
      ]
     },
     "execution_count": 8,
     "metadata": {},
     "output_type": "execute_result"
    },
    {
     "data": {
      "image/png": "[encoded data removed]",
      "text/plain": [
       "<Figure size 432x288 with 1 Axes>"
      ]
     },
     "metadata": {},
     "output_type": "display_data"
    }
   ],
   "source": [
    "to_plot = mdia_02_comp_mt1_02\n",
    "overlap_sum_with_mzrt = len(to_plot.overlapping_oms) + len(mzrt_02_comp_mt1_02.overlapping_mdia)\n",
    "non_overlap_mdia_with_mzrt = len(to_plot.non_overlapping_mdia) - len(mzrt_02_comp_mt1_02.overlapping_mdia)\n",
    "non_overlap_oms_with_mzrt = len(to_plot.non_overlapping_oms) - len(mzrt_02_comp_mt1_02.overlapping_oms)\n",
    "\n",
    "venn2(subsets = (non_overlap_mdia_with_mzrt, \n",
    "                 non_overlap_oms_with_mzrt,\n",
    "                 overlap_sum_with_mzrt), \n",
    "                 set_labels = ('MetaboDIA', 'Combined library'))\n",
    "    "
   ]
  },
  {
   "cell_type": "code",
   "execution_count": 9,
   "metadata": {},
   "outputs": [
    {
     "data": {
      "text/plain": [
       "<matplotlib_venn._common.VennDiagram at 0x7f9e86349130>"
      ]
     },
     "execution_count": 9,
     "metadata": {},
     "output_type": "execute_result"
    },
    {
     "data": {
      "image/png": "[encoded data removed]",
      "text/plain": [
       "<Figure size 432x288 with 1 Axes>"
      ]
     },
     "metadata": {},
     "output_type": "display_data"
    }
   ],
   "source": [
    "to_plot = mdia_05_comp_mt1_05\n",
    "overlap_sum_with_mzrt = len(to_plot.overlapping_oms) + len(mzrt_05_comp_mt1_05.overlapping_mdia)\n",
    "non_overlap_mdia_with_mzrt = len(to_plot.non_overlapping_mdia) - len(mzrt_05_comp_mt1_05.overlapping_mdia)\n",
    "non_overlap_oms_with_mzrt = len(to_plot.non_overlapping_oms) - len(mzrt_05_comp_mt1_05.overlapping_oms)\n",
    "\n",
    "venn2(subsets = (non_overlap_mdia_with_mzrt, \n",
    "                 non_overlap_oms_with_mzrt,\n",
    "                 overlap_sum_with_mzrt), \n",
    "                 set_labels = ('MetaboDIA', 'Combined library'))"
   ]
  },
  {
   "cell_type": "code",
   "execution_count": 10,
   "metadata": {},
   "outputs": [],
   "source": [
    "######################## UNKNOWN ########################"
   ]
  },
  {
   "cell_type": "code",
   "execution_count": 11,
   "metadata": {},
   "outputs": [
    {
     "data": {
      "text/plain": [
       "<matplotlib_venn._common.VennDiagram at 0x7f9e863138b0>"
      ]
     },
     "execution_count": 11,
     "metadata": {},
     "output_type": "execute_result"
    },
    {
     "data": {
      "image/png": "[encoded data removed]",
      "text/plain": [
       "<Figure size 432x288 with 1 Axes>"
      ]
     },
     "metadata": {},
     "output_type": "display_data"
    }
   ],
   "source": [
    "to_plot = mdia_00_oms_mt1_00_uk\n",
    "venn2(subsets = (len(to_plot.non_overlapping_mdia), \n",
    "                 len(to_plot.non_overlapping_oms),\n",
    "                 len(to_plot.overlapping_oms)), \n",
    "                 set_labels = ('MetaboDIA_00', 'DIAMetAlyzer_mt1_00_uk'))\n",
    "\n",
    "## "
   ]
  },
  {
   "cell_type": "code",
   "execution_count": 12,
   "metadata": {
    "scrolled": true
   },
   "outputs": [
    {
     "data": {
      "text/plain": [
       "<matplotlib_venn._common.VennDiagram at 0x7f9e86c37af0>"
      ]
     },
     "execution_count": 12,
     "metadata": {},
     "output_type": "execute_result"
    },
    {
     "data": {
      "image/png": "[encoded data removed]",
      "text/plain": [
       "<Figure size 432x288 with 1 Axes>"
      ]
     },
     "metadata": {},
     "output_type": "display_data"
    }
   ],
   "source": [
    "to_plot = mdia_02_oms_mt1_02_uk\n",
    "venn2(subsets = (len(to_plot.non_overlapping_mdia), \n",
    "                 len(to_plot.non_overlapping_oms),\n",
    "                 len(to_plot.overlapping_oms)), \n",
    "                 set_labels = ('MetaboDIA_02', 'DIAMetAlyzer_mt1_02_uk'))\n",
    "\n"
   ]
  },
  {
   "cell_type": "code",
   "execution_count": 13,
   "metadata": {},
   "outputs": [
    {
     "data": {
      "text/plain": [
       "<matplotlib_venn._common.VennDiagram at 0x7f9e9d987250>"
      ]
     },
     "execution_count": 13,
     "metadata": {},
     "output_type": "execute_result"
    },
    {
     "data": {
      "image/png": "[encoded data removed]",
      "text/plain": [
       "<Figure size 432x288 with 1 Axes>"
      ]
     },
     "metadata": {},
     "output_type": "display_data"
    }
   ],
   "source": [
    "to_plot = mdia_05_oms_mt1_05_uk\n",
    "venn2(subsets = (len(to_plot.non_overlapping_mdia), \n",
    "                 len(to_plot.non_overlapping_oms),\n",
    "                 len(to_plot.overlapping_oms)), \n",
    "                 set_labels = ('MetaboDIA_05', 'DIAMetAlyzer_mt1_05_uk'))\n",
    "\n",
    "# how many of these are filtered due to min. 3 transitions? "
   ]
  },
  {
   "cell_type": "code",
   "execution_count": 15,
   "metadata": {},
   "outputs": [
    {
     "name": "stdout",
     "output_type": "stream",
     "text": [
      "mzrt_mt1_02_k_uk.overlapping_oms:18\n",
      "mzrt_mt1_02_k_uk.overlapping_mdia:18\n",
      "mzrt_mt1_02_k_uk_test.overlapping_oms:720\n",
      "mzrt_mt1_02_k_uk_test.overlapping_mdia:720\n",
      "10\n",
      "333\n",
      "556\n"
     ]
    },
    {
     "data": {
      "text/plain": [
       "<matplotlib_venn._common.VennDiagram at 0x7f9e9da0c490>"
      ]
     },
     "execution_count": 15,
     "metadata": {},
     "output_type": "execute_result"
    },
    {
     "data": {
      "image/png": "[encoded data removed]",
      "text/plain": [
       "<Figure size 432x288 with 1 Axes>"
      ]
     },
     "metadata": {},
     "output_type": "display_data"
    }
   ],
   "source": [
    "## difference between DIAMetAlyzer known and known_unknwon\n",
    "\n",
    "inter = intersection(openmslib_mt1_s45_02_ck, openmslib_mt1_s45_02_ck_uk)\n",
    "\n",
    "oms_intersect = []\n",
    "oms_diff = []\n",
    "for element in openmslib_mt1_s45_02_l:\n",
    "    key = str(str(int(element.precursor_mz)) + \"_\" + str(element.formulas[0]) + \"_\" + str(element.adducts[0]))\n",
    "    if key in inter:\n",
    "        oms_intersect.append(element)\n",
    "    else:\n",
    "        oms_diff.append(element)\n",
    "    \n",
    "oms_intersect_uk = []\n",
    "oms_diff_uk = []\n",
    "for element in openmslib_mt1_s45_02_uk_l:\n",
    "    key = str(str(int(element.precursor_mz)) + \"_\" + str(element.formulas[0]) + \"_\" + str(element.adducts[0]))\n",
    "    if key in inter:\n",
    "        oms_intersect_uk.append(element)\n",
    "    else:\n",
    "        oms_diff_uk.append(element)\n",
    "    \n",
    "mzrt_mt1_02_k_uk_match = Matches()\n",
    "mzrt_mt1_02_k_uk_match.overlapping_oms = oms_intersect\n",
    "mzrt_mt1_02_k_uk_match.non_overlapping_oms = oms_diff\n",
    "mzrt_mt1_02_k_uk_match.overlapping_mdia = oms_intersect_uk\n",
    "mzrt_mt1_02_k_uk_match.non_overlapping_mdia = oms_diff_uk\n",
    "\n",
    "mzrt_mt1_02_k_uk_test = Matches()\n",
    "mzrt_mt1_02_k_uk_test.non_overlapping_oms = openmslib_mt1_s45_02_l\n",
    "mzrt_mt1_02_k_uk_test.non_overlapping_mdia = openmslib_mt1_s45_02_uk_l\n",
    "\n",
    "ppm_dev = 10\n",
    "rt_dev = 10\n",
    "mzrt_mt1_02_k_uk = checkStillOverlappingByMzRt(mzrt_mt1_02_k_uk_match, ppm_dev, rt_dev)\n",
    "print(\"mzrt_mt1_02_k_uk.overlapping_oms:\" + str(len(mzrt_mt1_02_k_uk.overlapping_oms))) # here known\n",
    "print(\"mzrt_mt1_02_k_uk.overlapping_mdia:\" + str(len(mzrt_mt1_02_k_uk.overlapping_mdia))) # here unknown\n",
    "\n",
    "ppm_dev = 10\n",
    "rt_dev = 10\n",
    "mzrt_mt1_02_k_uk_test = checkStillOverlappingByMzRt(mzrt_mt1_02_k_uk_test, ppm_dev, rt_dev)\n",
    "print(\"mzrt_mt1_02_k_uk_test.overlapping_oms:\" + str(len(mzrt_mt1_02_k_uk_test.overlapping_oms))) # here known\n",
    "print(\"mzrt_mt1_02_k_uk_test.overlapping_mdia:\" + str(len(mzrt_mt1_02_k_uk_test.overlapping_mdia))) # here unknown\n",
    "\n",
    "diff = set(mzrt_mt1_02_k_uk_match.non_overlapping_oms).difference(set(mzrt_mt1_02_k_uk.overlapping_oms))\n",
    "uk = (len(set(openmslib_mt1_s45_02_ck_uk).difference(openmslib_mt1_s45_02_ck)) - len(set(mzrt_mt1_02_k_uk.overlapping_oms)))\n",
    "inters = (len(inter) + len(set(mzrt_mt1_02_k_uk.overlapping_oms)))\n",
    "print(len(diff))\n",
    "print(uk)\n",
    "print(inters)\n",
    "\n",
    "venn2(subsets = (len(diff), \n",
    "                 uk,\n",
    "                 inters), \n",
    "                 set_labels = ('DIAMetAlyzer_mt1_02', 'DIAMetAlyzer_mt1_02_uk'))\n",
    "    \n",
    "    "
   ]
  }
 ],
 "metadata": {
  "kernelspec": {
   "display_name": "Python 3",
   "language": "python",
   "name": "python3"
  },
  "language_info": {
   "codemirror_mode": {
    "name": "ipython",
    "version": 3
   },
   "file_extension": ".py",
   "mimetype": "text/x-python",
   "name": "python",
   "nbconvert_exporter": "python",
   "pygments_lexer": "ipython3",
   "version": "3.9.0"
  }
 },
 "nbformat": 4,
 "nbformat_minor": 4
}
