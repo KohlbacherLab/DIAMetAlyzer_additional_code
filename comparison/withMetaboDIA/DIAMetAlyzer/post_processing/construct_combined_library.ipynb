{
 "cells": [
  {
   "cell_type": "code",
   "execution_count": 1,
   "metadata": {},
   "outputs": [],
   "source": [
    "import pandas as pd\n",
    "\n",
    "def intersection(lst1, lst2):\n",
    "    return list(set(lst1) & set(lst2))\n",
    "\n",
    "def getFirstAdduct(x):\n",
    "    if \";\" in x:\n",
    "        adduct = str(\"[\" + x.split(\";\")[1].split(\"^\")[1].split(\"_\")[0].strip() + \"]+\")\n",
    "    else:\n",
    "        adduct = str(\"[\" + x.split(\"^\")[1].split(\"_\")[0].strip() + \"]+\")\n",
    "    return adduct"
   ]
  },
  {
   "cell_type": "code",
   "execution_count": 2,
   "metadata": {},
   "outputs": [],
   "source": [
    "# 02\n",
    "#non_overlapping_p = \"/Volumes/elements/MetaboDIA/Option_1/combined_library_02_67/prepare_lib/non_overlapping_mdia_67.txt\"\n",
    "#oms_lib = \"/Volumes/elements/MetaboDIA/Option_1/combined_library_02_67/prepare_lib/20201129_s45_mt1_resolve_totoc_67_02.tsv\"\n",
    "#mdia_oms_lib = \"/Volumes/elements/MetaboDIA/Option_1/combined_library_02_67/prepare_lib/20201205_DDA_tdlib_msconvert_mzXML_10ppm_min_s02_pf00.tsv\"\n",
    "#combined_out = \"/Volumes/elements/MetaboDIA/Option_1/combined_library_02_67/prepare_lib/20201215_combined_mdiaoms_library_67.tsv\"\n",
    "\n",
    "# only 140 of the 204 non_overlapping compounds are found in the mdia_oms library, because \n",
    "# the other where filtered out in the conversion process, since the \n",
    "# compounds need to have a least 3 transitions for library generation\n",
    "\n",
    "no = pd.read_csv(non_overlapping_p, sep = \"\\t\")\n",
    "oms = pd.read_csv(oms_lib, sep = \"\\t\")\n",
    "mdia = pd.read_csv(mdia_oms_lib, sep = \"\\t\")\n",
    "\n",
    "comp = []\n",
    "for element in no['Compounds'].tolist():\n",
    "    comp.append(element)\n",
    "    comp.append(str(element + \"_decoy\"))\n",
    "\n",
    "no = pd.DataFrame(comp, columns=['Compounds'])\n",
    "\n",
    "## merge based on non_overlapping\n",
    "merged = pd.merge(no, mdia, left_on='Compounds', right_on='CompoundName', how='inner')\n",
    "merged = merged.drop(columns=['Compounds'])\n",
    "\n",
    "merged['Adducts'] = merged['CompoundName'].apply(getFirstAdduct)\n",
    "merged['Annotation'] = \"NA\"\n",
    "\n",
    "frames = [oms,merged]\n",
    "result = pd.concat(frames)\n",
    "\n",
    "result.to_csv(combined_out, sep = '\\t',index=False)\n",
    "\n",
    "## There seem to be an issue with empty lines at the end of the export file.\n",
    "## Please open the file with excel and save it again, then everything should \n",
    "## work in terms of conversion to pqp using the OpenMS::TargetedFileConverter"
   ]
  }
 ],
 "metadata": {
  "kernelspec": {
   "display_name": "Python 3",
   "language": "python",
   "name": "python3"
  },
  "language_info": {
   "codemirror_mode": {
    "name": "ipython",
    "version": 3
   },
   "file_extension": ".py",
   "mimetype": "text/x-python",
   "name": "python",
   "nbconvert_exporter": "python",
   "pygments_lexer": "ipython3",
   "version": "3.9.0"
  }
 },
 "nbformat": 4,
 "nbformat_minor": 4
}
